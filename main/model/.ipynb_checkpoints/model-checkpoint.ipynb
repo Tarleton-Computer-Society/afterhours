{
 "cells": [
  {
   "cell_type": "code",
   "execution_count": 24,
   "id": "c6335a0a",
   "metadata": {},
   "outputs": [
    {
     "name": "stdout",
     "output_type": "stream",
     "text": [
      "\u001b[33mDEPRECATION: Configuring installation scheme with distutils config files is deprecated and will no longer work in the near future. If you are using a Homebrew or Linuxbrew Python, please see discussion at https://github.com/Homebrew/homebrew-core/issues/76621\u001b[0m\u001b[33m\n",
      "\u001b[0m\u001b[31mERROR: Could not find a version that satisfies the requirement tensorflow (from versions: none)\u001b[0m\u001b[31m\n",
      "\u001b[0m\u001b[31mERROR: No matching distribution found for tensorflow\u001b[0m\u001b[31m\n",
      "\u001b[0m"
     ]
    }
   ],
   "source": [
    "!python3 -m pip install tensorflow"
   ]
  },
  {
   "cell_type": "code",
   "execution_count": 26,
   "id": "47e14018",
   "metadata": {},
   "outputs": [
    {
     "name": "stdout",
     "output_type": "stream",
     "text": [
      "\u001b[33mDEPRECATION: Configuring installation scheme with distutils config files is deprecated and will no longer work in the near future. If you are using a Homebrew or Linuxbrew Python, please see discussion at https://github.com/Homebrew/homebrew-core/issues/76621\u001b[0m\u001b[33m\n",
      "\u001b[0mCollecting tensorflow==1.8.0\n",
      "  Using cached https://storage.googleapis.com/tensorflow/mac/cpu/tensorflow-1.8.0-py3-none-any.whl (46.5 MB)\n",
      "Requirement already satisfied: numpy>=1.13.3 in /opt/homebrew/lib/python3.9/site-packages (from tensorflow==1.8.0) (1.23.3)\n",
      "Requirement already satisfied: absl-py>=0.1.6 in /opt/homebrew/lib/python3.9/site-packages (from tensorflow==1.8.0) (1.1.0)\n",
      "Requirement already satisfied: protobuf>=3.4.0 in /opt/homebrew/lib/python3.9/site-packages (from tensorflow==1.8.0) (3.19.4)\n",
      "Requirement already satisfied: astor>=0.6.0 in /opt/homebrew/lib/python3.9/site-packages (from tensorflow==1.8.0) (0.8.1)\n",
      "Requirement already satisfied: tensorboard<1.9.0,>=1.8.0 in /opt/homebrew/lib/python3.9/site-packages (from tensorflow==1.8.0) (1.8.0)\n",
      "Requirement already satisfied: wheel>=0.26 in /opt/homebrew/lib/python3.9/site-packages (from tensorflow==1.8.0) (0.37.1)\n",
      "Requirement already satisfied: gast>=0.2.0 in /opt/homebrew/lib/python3.9/site-packages (from tensorflow==1.8.0) (0.4.0)\n",
      "Requirement already satisfied: termcolor>=1.1.0 in /opt/homebrew/lib/python3.9/site-packages (from tensorflow==1.8.0) (1.1.0)\n",
      "Requirement already satisfied: grpcio>=1.8.6 in /opt/homebrew/lib/python3.9/site-packages (from tensorflow==1.8.0) (1.46.3)\n",
      "Requirement already satisfied: six>=1.10.0 in /opt/homebrew/lib/python3.9/site-packages (from tensorflow==1.8.0) (1.16.0)\n",
      "Requirement already satisfied: html5lib==0.9999999 in /opt/homebrew/lib/python3.9/site-packages (from tensorboard<1.9.0,>=1.8.0->tensorflow==1.8.0) (0.9999999)\n",
      "Requirement already satisfied: markdown>=2.6.8 in /opt/homebrew/lib/python3.9/site-packages (from tensorboard<1.9.0,>=1.8.0->tensorflow==1.8.0) (3.3.7)\n",
      "Requirement already satisfied: bleach==1.5.0 in /opt/homebrew/lib/python3.9/site-packages (from tensorboard<1.9.0,>=1.8.0->tensorflow==1.8.0) (1.5.0)\n",
      "Requirement already satisfied: werkzeug>=0.11.10 in /opt/homebrew/lib/python3.9/site-packages (from tensorboard<1.9.0,>=1.8.0->tensorflow==1.8.0) (2.1.2)\n",
      "Requirement already satisfied: importlib-metadata>=4.4 in /opt/homebrew/lib/python3.9/site-packages (from markdown>=2.6.8->tensorboard<1.9.0,>=1.8.0->tensorflow==1.8.0) (4.11.4)\n",
      "Requirement already satisfied: zipp>=0.5 in /opt/homebrew/lib/python3.9/site-packages (from importlib-metadata>=4.4->markdown>=2.6.8->tensorboard<1.9.0,>=1.8.0->tensorflow==1.8.0) (3.8.1)\n",
      "Installing collected packages: tensorflow\n",
      "\u001b[33m  DEPRECATION: Configuring installation scheme with distutils config files is deprecated and will no longer work in the near future. If you are using a Homebrew or Linuxbrew Python, please see discussion at https://github.com/Homebrew/homebrew-core/issues/76621\u001b[0m\u001b[33m\n",
      "\u001b[0m\u001b[33mDEPRECATION: Configuring installation scheme with distutils config files is deprecated and will no longer work in the near future. If you are using a Homebrew or Linuxbrew Python, please see discussion at https://github.com/Homebrew/homebrew-core/issues/76621\u001b[0m\u001b[33m\n",
      "\u001b[0mSuccessfully installed tensorflow-1.8.0\n"
     ]
    }
   ],
   "source": [
    "!pip3 install https://storage.googleapis.com/tensorflow/mac/cpu/tensorflow-1.8.0-py3-none-any.whl"
   ]
  },
  {
   "cell_type": "code",
   "execution_count": 27,
   "id": "91a8eda7",
   "metadata": {},
   "outputs": [
    {
     "ename": "SyntaxError",
     "evalue": "invalid syntax (pywrap_tensorflow_internal.py, line 114)",
     "output_type": "error",
     "traceback": [
      "Traceback \u001b[0;36m(most recent call last)\u001b[0m:\n",
      "  File \u001b[1;32m/opt/homebrew/lib/python3.9/site-packages/IPython/core/interactiveshell.py:3398\u001b[0m in \u001b[1;35mrun_code\u001b[0m\n    exec(code_obj, self.user_global_ns, self.user_ns)\n",
      "  Input \u001b[1;32mIn [27]\u001b[0m in \u001b[1;35m<cell line: 3>\u001b[0m\n    from keras.models import Sequential\n",
      "  File \u001b[1;32m/opt/homebrew/lib/python3.9/site-packages/keras/__init__.py:21\u001b[0m in \u001b[1;35m<module>\u001b[0m\n    from tensorflow.python import tf2\n",
      "  File \u001b[1;32m/opt/homebrew/lib/python3.9/site-packages/tensorflow/__init__.py:24\u001b[0m in \u001b[1;35m<module>\u001b[0m\n    from tensorflow.python import pywrap_tensorflow  # pylint: disable=unused-import\n",
      "  File \u001b[1;32m/opt/homebrew/lib/python3.9/site-packages/tensorflow/python/__init__.py:49\u001b[0m in \u001b[1;35m<module>\u001b[0m\n    from tensorflow.python import pywrap_tensorflow\n",
      "\u001b[0;36m  File \u001b[0;32m/opt/homebrew/lib/python3.9/site-packages/tensorflow/python/pywrap_tensorflow.py:58\u001b[0;36m in \u001b[0;35m<module>\u001b[0;36m\u001b[0m\n\u001b[0;31m    from tensorflow.python.pywrap_tensorflow_internal import *\u001b[0m\n",
      "\u001b[0;36m  File \u001b[0;32m/opt/homebrew/lib/python3.9/site-packages/tensorflow/python/pywrap_tensorflow_internal.py:114\u001b[0;36m\u001b[0m\n\u001b[0;31m    def TFE_ContextOptionsSetAsync(arg1, async):\u001b[0m\n\u001b[0m                                         ^\u001b[0m\n\u001b[0;31mSyntaxError\u001b[0m\u001b[0;31m:\u001b[0m invalid syntax\n"
     ]
    }
   ],
   "source": [
    "import pandas as pd\n",
    "\n",
    "from keras.models import Sequential\n",
    "from keras.layers import Dense, Dropout, Activation\n",
    "from keras.layers import Embedding\n",
    "from keras.layers import Conv1D, GlobalMaxPooling1D\n",
    "from keras.datasets import imdb\n",
    "from sklearn.model_selection import train_test_split"
   ]
  },
  {
   "cell_type": "code",
   "execution_count": 8,
   "id": "7dd35d77",
   "metadata": {},
   "outputs": [],
   "source": [
    "data = pd.read_csv('data.csv')"
   ]
  },
  {
   "cell_type": "code",
   "execution_count": 10,
   "id": "35ca6356",
   "metadata": {},
   "outputs": [
    {
     "data": {
      "text/html": [
       "<div>\n",
       "<style scoped>\n",
       "    .dataframe tbody tr th:only-of-type {\n",
       "        vertical-align: middle;\n",
       "    }\n",
       "\n",
       "    .dataframe tbody tr th {\n",
       "        vertical-align: top;\n",
       "    }\n",
       "\n",
       "    .dataframe thead th {\n",
       "        text-align: right;\n",
       "    }\n",
       "</style>\n",
       "<table border=\"1\" class=\"dataframe\">\n",
       "  <thead>\n",
       "    <tr style=\"text-align: right;\">\n",
       "      <th></th>\n",
       "      <th>Asking for Answers</th>\n",
       "      <th>Not Asking for Answers</th>\n",
       "    </tr>\n",
       "  </thead>\n",
       "  <tbody>\n",
       "    <tr>\n",
       "      <th>0</th>\n",
       "      <td>Hey, what's the answer for</td>\n",
       "      <td>How do I solve</td>\n",
       "    </tr>\n",
       "    <tr>\n",
       "      <th>1</th>\n",
       "      <td>Anyone have a key?</td>\n",
       "      <td>how do I work this problem</td>\n",
       "    </tr>\n",
       "    <tr>\n",
       "      <th>2</th>\n",
       "      <td>whats the answer for</td>\n",
       "      <td>how do I solve</td>\n",
       "    </tr>\n",
       "    <tr>\n",
       "      <th>3</th>\n",
       "      <td>answers pls</td>\n",
       "      <td>anyone understand how</td>\n",
       "    </tr>\n",
       "    <tr>\n",
       "      <th>4</th>\n",
       "      <td>Please give me the answers for</td>\n",
       "      <td>wanna study together</td>\n",
       "    </tr>\n",
       "  </tbody>\n",
       "</table>\n",
       "</div>"
      ],
      "text/plain": [
       "               Asking for Answers      Not Asking for Answers\n",
       "0      Hey, what's the answer for              How do I solve\n",
       "1              Anyone have a key?  how do I work this problem\n",
       "2            whats the answer for              how do I solve\n",
       "3                     answers pls       anyone understand how\n",
       "4  Please give me the answers for        wanna study together"
      ]
     },
     "execution_count": 10,
     "metadata": {},
     "output_type": "execute_result"
    }
   ],
   "source": [
    "data.head()"
   ]
  },
  {
   "cell_type": "code",
   "execution_count": null,
   "id": "02ded2f1",
   "metadata": {},
   "outputs": [],
   "source": [
    "\n",
    "\n",
    "# set parameters:\n",
    "max_features = 5000\n",
    "maxlen = 400\n",
    "batch_size = 32\n",
    "embedding_dims = 50\n",
    "filters = 250\n",
    "kernel_size = 3\n",
    "hidden_dims = 250\n",
    "epochs = 2\n",
    "\n",
    "print('Loading data...')\n",
    "(x_train, y_train), (x_test, y_test) = \n",
    "print(len(x_train), 'train sequences')\n",
    "print(len(x_test), 'test sequences')\n",
    "\n",
    "print('Pad sequences (samples x time)')\n",
    "x_train = sequence.pad_sequences(x_train, maxlen=maxlen)\n",
    "x_test = sequence.pad_sequences(x_test, maxlen=maxlen)\n",
    "print('x_train shape:', x_train.shape)\n",
    "print('x_test shape:', x_test.shape)\n",
    "\n",
    "print('Build model...')\n",
    "model = Sequential()\n",
    "\n",
    "# we start off with an efficient embedding layer which maps\n",
    "# our vocab indices into embedding_dims dimensions\n",
    "model.add(Embedding(max_features,\n",
    "                    embedding_dims,\n",
    "                    input_length=maxlen))\n",
    "model.add(Dropout(0.2))\n",
    "\n",
    "# we add a Convolution1D, which will learn filters\n",
    "# word group filters of size filter_length:\n",
    "model.add(Conv1D(filters,\n",
    "                 kernel_size,\n",
    "                 padding='valid',\n",
    "                 activation='relu',\n",
    "                 strides=1))\n",
    "# we use max pooling:\n",
    "model.add(GlobalMaxPooling1D())\n",
    "\n",
    "# We add a vanilla hidden layer:\n",
    "model.add(Dense(hidden_dims))\n",
    "model.add(Dropout(0.2))\n",
    "model.add(Activation('relu'))\n",
    "\n",
    "# We project onto a single unit output layer, and squash it with a sigmoid:\n",
    "model.add(Dense(1))\n",
    "model.add(Activation('sigmoid'))\n",
    "\n",
    "model.compile(loss='binary_crossentropy',\n",
    "              optimizer='adam',\n",
    "              metrics=['accuracy'])\n",
    "model.fit(x_train, y_train,\n",
    "          batch_size=batch_size,\n",
    "          epochs=epochs,\n",
    "          validation_data=(x_test, y_test))"
   ]
  }
 ],
 "metadata": {
  "kernelspec": {
   "display_name": "Python 3 (ipykernel)",
   "language": "python",
   "name": "python3"
  },
  "language_info": {
   "codemirror_mode": {
    "name": "ipython",
    "version": 3
   },
   "file_extension": ".py",
   "mimetype": "text/x-python",
   "name": "python",
   "nbconvert_exporter": "python",
   "pygments_lexer": "ipython3",
   "version": "3.9.13"
  }
 },
 "nbformat": 4,
 "nbformat_minor": 5
}
